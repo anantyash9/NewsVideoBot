{
 "cells": [
  {
   "cell_type": "code",
   "execution_count": null,
   "metadata": {},
   "outputs": [],
   "source": [
    "from moviepy.editor import *"
   ]
  },
  {
   "cell_type": "code",
   "execution_count": null,
   "metadata": {
    "scrolled": true
   },
   "outputs": [],
   "source": [
    "from PIL import Image\n",
    "import requests\n",
    "from io import BytesIO"
   ]
  },
  {
   "cell_type": "code",
   "execution_count": null,
   "metadata": {},
   "outputs": [],
   "source": [
    "response = requests.get(r'https://media.indiatimes.in/media/content/2018/Aug/kerala_1535546541_725x725.jpg')\n",
    "img = Image.open(BytesIO(response.content)).convert('RGB')"
   ]
  },
  {
   "cell_type": "code",
   "execution_count": null,
   "metadata": {},
   "outputs": [],
   "source": [
    "text = TextClip(\"Kerala Floods\",fontsize=200,color='white',bg_color='Black',method='caption').set_duration(1).set_pos(\"left\").set_opacity(0.6)"
   ]
  },
  {
   "cell_type": "code",
   "execution_count": null,
   "metadata": {},
   "outputs": [],
   "source": [
    "import cv2\n",
    "import numpy\n",
    "img =numpy.array(img)\n",
    "resized_image = cv2.resize(img, (1920,1080))"
   ]
  },
  {
   "cell_type": "code",
   "execution_count": null,
   "metadata": {},
   "outputs": [],
   "source": [
    "picture = ImageClip(resized_image,duration=1)"
   ]
  },
  {
   "cell_type": "code",
   "execution_count": null,
   "metadata": {},
   "outputs": [],
   "source": [
    "text.fps=24\n",
    "picture.fps=24\n",
    "final_clip = CompositeVideoClip([picture,text])\n",
    "final_clip.fps =24"
   ]
  },
  {
   "cell_type": "code",
   "execution_count": null,
   "metadata": {},
   "outputs": [],
   "source": [
    "final_clip.write_videofile('Title.mp4',threads=4)"
   ]
  },
  {
   "cell_type": "code",
   "execution_count": null,
   "metadata": {},
   "outputs": [],
   "source": [
    "TextClip.list('color')"
   ]
  },
  {
   "cell_type": "code",
   "execution_count": null,
   "metadata": {},
   "outputs": [],
   "source": [
    "import spacy,en_core_web_sm\n",
    "import textacy\n",
    "from textblob import TextBlob\n",
    "sentence = 'The Democratic primaries on Thursday, Sept. 13, provide some ground for hope. The damage being done by the Trump administration has reawakened New Yorkers to the importance of political participation. Recognizing this new spirit, energetic Senate candidates are promising real reform. Candidates for attorney general — in particular Zephyr Teachout, a national expert on corruption — are campaigning to clean up Albany and take on the Trump administration, and they’re well positioned to do just that.'\n",
    "pattern = r'<VERB>*'\n",
    "doc = textacy.Doc(sentence, lang='en')\n",
    "lists = textacy.extract.pos_regex_matches(doc, pattern)\n",
    "blob = TextBlob(sentence)\n",
    "listo = [li.text for li in lists]\n",
    "search=' '.join(blob.noun_phrases)+' '\n",
    "search1=search +' '.join(listo)\n",
    "print (search1)"
   ]
  },
  {
   "cell_type": "code",
   "execution_count": null,
   "metadata": {},
   "outputs": [],
   "source": [
    "from google_images_download import google_images_download\n",
    "response = google_images_download.googleimagesdownload()\n",
    "arguments={\"keywords\":search1[:50],\"limit\":1} \n",
    "absolute_image_paths = response.download(arguments)\n",
    "print(absolute_image_paths[search1[:50]])"
   ]
  },
  {
   "cell_type": "code",
   "execution_count": null,
   "metadata": {},
   "outputs": [],
   "source": [
    "from sumy.parsers.html import HtmlParser\n",
    "from sumy.parsers.plaintext import PlaintextParser\n",
    "from sumy.nlp.tokenizers import Tokenizer\n",
    "from sumy.summarizers.lsa import LsaSummarizer as Summarizer\n",
    "from sumy.nlp.stemmers import Stemmer\n",
    "from sumy.utils import get_stop_words\n",
    "\n",
    "\n",
    "LANGUAGE = \"english\"\n",
    "SENTENCES_COUNT = 10\n",
    "\n",
    "\n",
    "url = \"https://timesofindia.indiatimes.com/india/is-this-a-joke-sc-blasts-lower-court-for-delivering-order-through-whatsapp/articleshow/65739971.cms\"\n",
    "parser = HtmlParser.from_url(url, Tokenizer(LANGUAGE))\n",
    "# or for plain text files\n",
    "# parser = PlaintextParser.from_file(\"document.txt\", Tokenizer(LANGUAGE))\n",
    "stemmer = Stemmer(LANGUAGE)\n",
    "summarizer = Summarizer(stemmer)\n",
    "summarizer.stop_words = get_stop_words(LANGUAGE)\n",
    "\n",
    "for sentence in summarizer(parser.document, SENTENCES_COUNT):\n",
    "    print(sentence)"
   ]
  },
  {
   "cell_type": "code",
   "execution_count": null,
   "metadata": {},
   "outputs": [],
   "source": [
    "txt = 'Have you ever heard of a trial in a criminal case being conducted through instant messaging app WhatsApp?'\n",
    "clip =TextClip(txt, font='Georgia-Regular',fontsize=84, color='white').set_duration(1)\n",
    "txt_split= txt.split(' ')\n",
    "count =len(txt_split)//(clip.size[0]//1600)\n",
    "count=6\n",
    "print(count)\n",
    "txt_sp2=['']\n",
    "for i in range(0,len(txt_split)):\n",
    "    if i %count !=0 or i==0:\n",
    "        txt_sp2.append(txt_split[i])\n",
    "    else:\n",
    "        txt_sp2.append(txt_split[i])\n",
    "        txt_sp2.append('\\n')\n",
    "        \n",
    "txt=' '.join(txt_sp2)\n",
    "clip =TextClip(txt, font='Georgia-Regular',fontsize=84, color='white',method='caption',align='west',size=(1920,clip.size[1]*(clip.size[0]//1600)*1.5)).set_duration(1)\n",
    "final = CompositeVideoClip([picture, clip])\n",
    "final.to_videofile(\"final.mp4\", fps=picture.fps)"
   ]
  },
  {
   "cell_type": "code",
   "execution_count": null,
   "metadata": {},
   "outputs": [],
   "source": [
    "print(clip.size)"
   ]
  },
  {
   "cell_type": "code",
   "execution_count": null,
   "metadata": {},
   "outputs": [],
   "source": [
    "txt='1234567890123456789012345678901234567890123456789012345678901234567890123456789012345678901234567890'\n",
    "txt=''\n",
    "for i in range(5):\n",
    "    txt+='_'\n",
    "txt+='T'\n",
    "txt='When President Donald Trump took the stage on Thursday at the Rimrock Auto Arena in Billings, Montana, it had all the trappings of his signature rallies.'\n",
    "clip1 =TextClip(txt, font='Georgia-Regular',fontsize=74, color='white').set_duration(1)\n",
    "width = (clip1.size[0]/1720)\n",
    "clip =TextClip(txt, font='Georgia-Regular',fontsize=74, color='white',method='caption',stroke_color='Blue',stroke_width=100,align='west',size=(1720,clip1.size[1]*width*1.5)).set_duration(1).set_pos('bottom').set_opacity(.6)\n",
    "text =TextClip(txt, font='Georgia-Regular',fontsize=74, color='white',method='caption',align='west',size=(1720,clip1.size[1]*width*1.5)).set_duration(1).set_pos('bottom')\n",
    "final = CompositeVideoClip([picture, clip,text])\n",
    "final.to_videofile(\"final.mp4\", fps=picture.fps)"
   ]
  },
  {
   "cell_type": "code",
   "execution_count": 1,
   "metadata": {},
   "outputs": [
    {
     "name": "stdout",
     "output_type": "stream",
     "text": [
      "\n",
      "Item no.: 1 --> Item name = When President Donald Trump took the stage on Thursday at the Rimrock Auto Arena in Billings Montana it had all the trappings of his signature rallies \n",
      "Evaluating...\n",
      "Starting Download...\n",
      "Completed Image ====> 1. 911cafqs_plaidshirtguy-650_625x300_09_september_18.jpg\n",
      "\n",
      "Errors: 0\n",
      "\n",
      "[MoviePy] >>>> Building video cose\\0.mp4\n",
      "[MoviePy] Writing audio in 0TEMP_MPY_wvf_snd.mp3\n"
     ]
    },
    {
     "name": "stderr",
     "output_type": "stream",
     "text": [
      "100%|███████████████████████████████████████████████████████████████████████████████| 235/235 [00:00<00:00, 314.60it/s]\n"
     ]
    },
    {
     "name": "stdout",
     "output_type": "stream",
     "text": [
      "[MoviePy] Done.\n",
      "[MoviePy] Writing video cose\\0.mp4\n"
     ]
    },
    {
     "name": "stderr",
     "output_type": "stream",
     "text": [
      "100%|████████████████████████████████████████████████████████████████████████████████| 256/256 [02:07<00:00,  2.00it/s]\n"
     ]
    },
    {
     "name": "stdout",
     "output_type": "stream",
     "text": [
      "[MoviePy] Done.\n",
      "[MoviePy] >>>> Video ready: cose\\0.mp4 \n",
      "\n"
     ]
    }
   ],
   "source": [
    "from gtts import gTTS\n",
    "from PIL import Image\n",
    "import requests\n",
    "from io import BytesIO\n",
    "from moviepy.editor import *\n",
    "from google_images_download import google_images_download\n",
    "import cv2\n",
    "import numpy\n",
    "import re\n",
    "import os\n",
    "\n",
    "\n",
    "def make_mid(txt,dir,num):\n",
    "    speech = gTTS(txt,lang='en')\n",
    "    speech.save('temp.mp3')\n",
    "    response = google_images_download.googleimagesdownload()\n",
    "    search=re.sub('[^A-Za-z0-9]+', ' ', txt)\n",
    "    arguments={\"keywords\":search,\"limit\":1,'aspect_ratio':'wide','no_directory':'true'} \n",
    "    absolute_image_paths = response.download(arguments)\n",
    "    image=cv2.imread(absolute_image_paths[search][0])\n",
    "    image = cv2.cvtColor(image,cv2.COLOR_BGR2RGB)\n",
    "    audio=AudioFileClip(\"temp.mp3\")\n",
    "    length=audio.duration\n",
    "    resized_image = cv2.resize(image, (1920,1080))\n",
    "    picture = ImageClip(resized_image,duration=length).set_audio(audio)\n",
    "    clip1 =TextClip(txt, font='Georgia-Regular',fontsize=74, color='white').set_duration(1)\n",
    "    width = (clip1.size[0]/1720)\n",
    "    clip =TextClip(txt, font='Georgia-Regular',fontsize=74, color='white',method='caption',stroke_color='Blue',stroke_width=100,align='west',size=(1720,clip1.size[1]*width*1.5)).set_duration(length).set_pos('bottom').set_opacity(.6)\n",
    "    text =TextClip(txt, font='Georgia-Regular',fontsize=74, color='white',method='caption',align='west',size=(1720,clip1.size[1]*width*1.5)).set_duration(length).set_pos('bottom')\n",
    "    final = CompositeVideoClip([picture, clip,text])\n",
    "    sorce=dir+str(num)+\".mp4\"\n",
    "    if not os.path.exists(dir):\n",
    "        os.makedirs(dir)\n",
    "    final.write_videofile(sorce,fps=24)\n",
    "    return sorce\n",
    "txt='When President Donald Trump took the stage on Thursday at the Rimrock Auto Arena in Billings, Montana, it had all the trappings of his signature rallies.'\n",
    "final = make_mid(txt,'cose\\\\',0)\n",
    "\n",
    "    \n",
    "    \n",
    "    \n",
    "    \n"
   ]
  },
  {
   "cell_type": "code",
   "execution_count": 2,
   "metadata": {},
   "outputs": [],
   "source": [
    "import newspaper\n",
    "import re"
   ]
  },
  {
   "cell_type": "code",
   "execution_count": 3,
   "metadata": {},
   "outputs": [
    {
     "name": "stdout",
     "output_type": "stream",
     "text": [
      "Building Times\n"
     ]
    }
   ],
   "source": [
    "print(\"Building Times\")\n",
    "times = newspaper.build('https://www.indiatimes.com', memoize_articles=False )"
   ]
  },
  {
   "cell_type": "code",
   "execution_count": 4,
   "metadata": {},
   "outputs": [],
   "source": [
    "def addit(lis,ins):\n",
    "    if len(lis)<10:\n",
    "        lis.append(ins)\n",
    "def formatted(article):\n",
    "    words = 0\n",
    "    split = 0\n",
    "    for i in range(len(article.text)):\n",
    "        if words >100 and article.text[i]==\"\\n\":\n",
    "            text = article.text[split:i]\n",
    "            break\n",
    "        if article.text[i] == ' ':\n",
    "            words+=1\n",
    "        if (article.text[i] =='\\n' or article.text[i] ==')')  and words < 4:\n",
    "            split = i+1\n",
    "    else:\n",
    "        text = article.text\n",
    "    return text"
   ]
  },
  {
   "cell_type": "code",
   "execution_count": 5,
   "metadata": {},
   "outputs": [],
   "source": [
    "time_paper ={}\n",
    "in_news=[]\n",
    "w_news=[]\n",
    "weird=[]\n",
    "sports=[]\n",
    "tech_n=[]\n",
    "tech_g=[]\n",
    "celebs=[]\n",
    "for article in times.articles:\n",
    "    if re.match(r'^https://www\\.indiatimes\\.com/news/india/[a-z]+',article.url) :\n",
    "        addit(in_news,article)\n",
    "    elif re.match(r'^https://www\\.indiatimes\\.com/news/world/[a-z]+',article.url):\n",
    "        addit(w_news,article)\n",
    "    elif re.match(r'^https://www\\.indiatimes\\.com/news/weird/[a-z]+',article.url):\n",
    "        addit(weird,article)\n",
    "    elif re.match(r'^https://www\\.indiatimes\\.com/news/sports/[a-z]+',article.url):\n",
    "        addit(sports,article)\n",
    "    elif re.match(r'^https://www\\.indiatimes\\.com/technology/news/[a-z]+',article.url):\n",
    "        addit(tech_n,article)\n",
    "    elif re.match(r'^https://www\\.indiatimes\\.com/technology/gadgets/[a-z]+',article.url):\n",
    "        addit(tech_g,article)\n",
    "    elif re.match(r'^https://www\\.indiatimes\\.com/entertainment/celebs/[a-z]+',article.url):\n",
    "        addit(celebs,article)\n",
    "        \n",
    "time_paper[\"in_news\"] = in_news\n",
    "time_paper[\"w_news\"] = w_news\n",
    "time_paper[\"weird\"] = weird\n",
    "time_paper[\"sports\"] = sports\n",
    "time_paper[\"tech_n\"] = tech_n\n",
    "time_paper[\"tech_g\"] = tech_g\n",
    "time_paper[\"celebs\"] = celebs"
   ]
  },
  {
   "cell_type": "code",
   "execution_count": 6,
   "metadata": {},
   "outputs": [
    {
     "name": "stdout",
     "output_type": "stream",
     "text": [
      "[<newspaper.article.Article object at 0x00000209BABF4358>, <newspaper.article.Article object at 0x00000209B9A95940>, <newspaper.article.Article object at 0x00000209BABD6A20>, <newspaper.article.Article object at 0x00000209BABD6710>, <newspaper.article.Article object at 0x00000209BACA0D68>, <newspaper.article.Article object at 0x00000209BAC81E10>, <newspaper.article.Article object at 0x00000209BACA0240>, <newspaper.article.Article object at 0x00000209B9A9B320>, <newspaper.article.Article object at 0x00000209BACAF128>, <newspaper.article.Article object at 0x00000209BACAFA90>]\n"
     ]
    }
   ],
   "source": [
    "print(time_paper[\"in_news\"])"
   ]
  },
  {
   "cell_type": "code",
   "execution_count": 9,
   "metadata": {},
   "outputs": [
    {
     "name": "stdout",
     "output_type": "stream",
     "text": [
      "\n",
      "Item no.: 1 --> Item name = What s The Ideal Amount Of Time You Should Rest Between Sets While Working Out \n",
      "Evaluating...\n",
      "Starting Download...\n",
      "Completed Image ====> 1. whats_the_ideal_amount_of_time_you_need_to_be_resting_between_sets_while_working_out_1536670564_725x725.jpg\n",
      "\n",
      "Errors: 0\n",
      "\n",
      "[MoviePy] >>>> Building video vid\\0.mp4\n",
      "[MoviePy] Writing audio in 0TEMP_MPY_wvf_snd.mp3\n"
     ]
    },
    {
     "name": "stderr",
     "output_type": "stream",
     "text": [
      "100%|███████████████████████████████████████████████████████████████████████████████| 114/114 [00:00<00:00, 302.39it/s]\n"
     ]
    },
    {
     "name": "stdout",
     "output_type": "stream",
     "text": [
      "[MoviePy] Done.\n",
      "[MoviePy] Writing video vid\\0.mp4\n"
     ]
    },
    {
     "name": "stderr",
     "output_type": "stream",
     "text": [
      "100%|████████████████████████████████████████████████████████████████████████████████| 124/124 [00:36<00:00,  3.42it/s]\n"
     ]
    },
    {
     "name": "stdout",
     "output_type": "stream",
     "text": [
      "[MoviePy] Done.\n",
      "[MoviePy] >>>> Video ready: vid\\0.mp4 \n",
      "\n",
      "\n",
      "Item no.: 1 --> Item name = What s The Ideal Amount Of Time You Should Rest Between Sets While Working Out What s The Ideal Amount Of Time You Should Rest Between Sets While Working Out The rest periods between the sets is a subject that has been debated by experts and exercise aficionados alike for decades now\n",
      "Evaluating...\n",
      "Starting Download...\n",
      "Completed Image ====> 1. whats_the_ideal_amount_of_time_you_need_to_be_resting_between_sets_while_working_out_1536670564_725x725.jpg\n",
      "\n",
      "Errors: 0\n",
      "\n",
      "[MoviePy] >>>> Building video vid\\1.mp4\n",
      "[MoviePy] Writing audio in 1TEMP_MPY_wvf_snd.mp3\n"
     ]
    },
    {
     "name": "stderr",
     "output_type": "stream",
     "text": [
      "100%|███████████████████████████████████████████████████████████████████████████████| 433/433 [00:01<00:00, 316.99it/s]\n"
     ]
    },
    {
     "name": "stdout",
     "output_type": "stream",
     "text": [
      "[MoviePy] Done.\n",
      "[MoviePy] Writing video vid\\1.mp4\n"
     ]
    },
    {
     "name": "stderr",
     "output_type": "stream",
     "text": [
      "100%|████████████████████████████████████████████████████████████████████████████████| 472/472 [08:18<00:00,  1.06s/it]\n"
     ]
    },
    {
     "name": "stdout",
     "output_type": "stream",
     "text": [
      "[MoviePy] Done.\n",
      "[MoviePy] >>>> Video ready: vid\\1.mp4 \n",
      "\n",
      "\n",
      "Item no.: 1 --> Item name = Rest periods are crucial because the that s the time your muscles spend recovering allowing you to push just as hard in every set you perform while working out The current train of thought around this concept suggests that the shorter your rest period the more stress that your muscles take which boosts muscle growth fitnessmega com The average recommended rest period also called as a short rest period you ll often hear being said referred to casually is between 30 and 60 seconds This is said to be the ideal time your muscles need to restore enough energy and strength to push out another set with the same amount of intensity Despite the long fixated belief that short rest periods are what is muscle growth in the long run a recent research published in the Asian Journal of Sports Medicine suggests that longer rest periods between sets are particularly useful for muscle growth pinterest es Don t Miss 346 SHARES 476 SHARES 334 SHARES 168 SHARES The study looked at workouts with rest intervals of 30 seconds 60 seconds and 120 second rest intervals between sets\n",
      "Evaluating...\n",
      "Starting Download...\n",
      "Completed Image ====> 1. how-to-use-density-training-for-rapid-fat-loss.jpg\n",
      "\n",
      "Errors: 0\n",
      "\n",
      "[MoviePy] >>>> Building video vid\\2.mp4\n",
      "[MoviePy] Writing audio in 2TEMP_MPY_wvf_snd.mp3\n"
     ]
    },
    {
     "name": "stderr",
     "output_type": "stream",
     "text": [
      "100%|█████████████████████████████████████████████████████████████████████████████| 1792/1792 [00:06<00:00, 291.15it/s]\n"
     ]
    },
    {
     "name": "stdout",
     "output_type": "stream",
     "text": [
      "[MoviePy] Done.\n",
      "[MoviePy] Writing video vid\\2.mp4\n"
     ]
    },
    {
     "name": "stderr",
     "output_type": "stream",
     "text": [
      "100%|██████████████████████████████████████████████████████████████████████████████| 1951/1951 [35:04<00:00,  1.08s/it]\n"
     ]
    },
    {
     "name": "stdout",
     "output_type": "stream",
     "text": [
      "[MoviePy] Done.\n",
      "[MoviePy] >>>> Video ready: vid\\2.mp4 \n",
      "\n",
      "\n",
      "Item no.: 1 --> Item name = They used exercises such as bench press seated row shoulder press back squats and leg press during the study Resting for two minutes instead of 30 60 seconds was found to be more effective at building muscle The longer the interval periods between sets the greater the load you are able to lift during the exercise you are performing\n",
      "Evaluating...\n",
      "Starting Download...\n",
      "Completed Image ====> 1. 20140805_092855.jpg\n",
      "\n",
      "Errors: 0\n",
      "\n",
      "[MoviePy] >>>> Building video vid\\3.mp4\n",
      "[MoviePy] Writing audio in 3TEMP_MPY_wvf_snd.mp3\n"
     ]
    },
    {
     "name": "stderr",
     "output_type": "stream",
     "text": [
      "100%|███████████████████████████████████████████████████████████████████████████████| 527/527 [00:01<00:00, 329.38it/s]\n"
     ]
    },
    {
     "name": "stdout",
     "output_type": "stream",
     "text": [
      "[MoviePy] Done.\n",
      "[MoviePy] Writing video vid\\3.mp4\n"
     ]
    },
    {
     "name": "stderr",
     "output_type": "stream",
     "text": [
      "100%|████████████████████████████████████████████████████████████████████████████████| 573/573 [10:27<00:00,  1.09s/it]\n"
     ]
    },
    {
     "name": "stdout",
     "output_type": "stream",
     "text": [
      "[MoviePy] Done.\n",
      "[MoviePy] >>>> Video ready: vid\\3.mp4 \n",
      "\n",
      "\n",
      "Item no.: 1 --> Item name = Your muscle mass increases naturally due to the greater volume of load you place on your muscles sohu com For fat loss however shorter intervals seem to work better\n",
      "Evaluating...\n",
      "Starting Download...\n",
      "Completed Image ====> 1. 5-training-strategies-for-fuller-muscles.jpg\n",
      "\n",
      "Errors: 0\n",
      "\n",
      "[MoviePy] >>>> Building video vid\\4.mp4\n",
      "[MoviePy] Writing audio in 4TEMP_MPY_wvf_snd.mp3\n"
     ]
    },
    {
     "name": "stderr",
     "output_type": "stream",
     "text": [
      "100%|███████████████████████████████████████████████████████████████████████████████| 272/272 [00:00<00:00, 317.39it/s]\n"
     ]
    },
    {
     "name": "stdout",
     "output_type": "stream",
     "text": [
      "[MoviePy] Done.\n",
      "[MoviePy] Writing video vid\\4.mp4\n"
     ]
    },
    {
     "name": "stderr",
     "output_type": "stream",
     "text": [
      "100%|████████████████████████████████████████████████████████████████████████████████| 296/296 [05:14<00:00,  1.06s/it]\n"
     ]
    },
    {
     "name": "stdout",
     "output_type": "stream",
     "text": [
      "[MoviePy] Done.\n",
      "[MoviePy] >>>> Video ready: vid\\4.mp4 \n",
      "\n",
      "\n",
      "Item no.: 1 --> Item name = So workouts like HIIT circuits are more ideal for losing weight When it comes to lifting though heavy lifting is better than lifting light\n",
      "Evaluating...\n",
      "Starting Download...\n",
      "Completed Image ====> 1. cardio-vs-weightlifting.jpg\n",
      "\n",
      "Errors: 0\n",
      "\n",
      "[MoviePy] >>>> Building video vid\\5.mp4\n",
      "[MoviePy] Writing audio in 5TEMP_MPY_wvf_snd.mp3\n"
     ]
    },
    {
     "name": "stderr",
     "output_type": "stream",
     "text": [
      "100%|███████████████████████████████████████████████████████████████████████████████| 224/224 [00:00<00:00, 328.93it/s]\n"
     ]
    },
    {
     "name": "stdout",
     "output_type": "stream",
     "text": [
      "[MoviePy] Done.\n",
      "[MoviePy] Writing video vid\\5.mp4\n"
     ]
    },
    {
     "name": "stderr",
     "output_type": "stream",
     "text": [
      "100%|████████████████████████████████████████████████████████████████████████████████| 244/244 [02:12<00:00,  1.84it/s]\n"
     ]
    },
    {
     "name": "stdout",
     "output_type": "stream",
     "text": [
      "[MoviePy] Done.\n",
      "[MoviePy] >>>> Video ready: vid\\5.mp4 \n",
      "\n",
      "\n",
      "Item no.: 1 --> Item name = Although you end up performer lesser reps when you lift heavier you end with a higher metabolic rate greater caloric burn muscle activation muscle growth do lesser reps their higher loads they end up increasing your metabolic rate \n",
      "Evaluating...\n",
      "Starting Download...\n",
      "Completed Image ====> 1. main-qimg-9dffb731e463255130bb5bb92cd71516.jpg\n",
      "\n",
      "Errors: 0\n",
      "\n",
      "[MoviePy] >>>> Building video vid\\6.mp4\n",
      "[MoviePy] Writing audio in 6TEMP_MPY_wvf_snd.mp3\n"
     ]
    },
    {
     "name": "stderr",
     "output_type": "stream",
     "text": [
      "100%|███████████████████████████████████████████████████████████████████████████████| 346/346 [00:01<00:00, 325.19it/s]\n"
     ]
    },
    {
     "name": "stdout",
     "output_type": "stream",
     "text": [
      "[MoviePy] Done.\n",
      "[MoviePy] Writing video vid\\6.mp4\n"
     ]
    },
    {
     "name": "stderr",
     "output_type": "stream",
     "text": [
      "100%|████████████████████████████████████████████████████████████████████████████████| 377/377 [03:46<00:00,  1.67it/s]\n"
     ]
    },
    {
     "name": "stdout",
     "output_type": "stream",
     "text": [
      "[MoviePy] Done.\n",
      "[MoviePy] >>>> Video ready: vid\\6.mp4 \n",
      "\n",
      "[MoviePy] >>>> Building video final.mp4\n",
      "[MoviePy] Writing audio in finalTEMP_MPY_wvf_snd.mp3\n"
     ]
    },
    {
     "name": "stderr",
     "output_type": "stream",
     "text": [
      "100%|█████████████████████████████████████████████████████████████████████████████| 3712/3712 [00:12<00:00, 290.62it/s]\n"
     ]
    },
    {
     "name": "stdout",
     "output_type": "stream",
     "text": [
      "[MoviePy] Done.\n",
      "[MoviePy] Writing video final.mp4\n"
     ]
    },
    {
     "name": "stderr",
     "output_type": "stream",
     "text": [
      "100%|██████████████████████████████████████████████████████████████████████████████| 4040/4040 [06:03<00:00, 11.12it/s]\n"
     ]
    },
    {
     "name": "stdout",
     "output_type": "stream",
     "text": [
      "[MoviePy] Done.\n",
      "[MoviePy] >>>> Video ready: final.mp4 \n",
      "\n"
     ]
    }
   ],
   "source": [
    "import time\n",
    "for articles in [time_paper[\"in_news\"][0]]:\n",
    "    article.download()\n",
    "    time.sleep(1)\n",
    "    article.parse()\n",
    "    number=0\n",
    "    body=[]    \n",
    "    body.append(make_mid(article.title,'vid\\\\',number))\n",
    "    sentences = article.text.split('. ')\n",
    "    for sentence in sentences:\n",
    "        number+=1\n",
    "        body.append(make_mid(sentence,'vid\\\\',number))\n",
    "    clips = [VideoFileClip(x) for x in body]\n",
    "    final = concatenate_videoclips(clips)\n",
    "    final.write_videofile(\"final.mp4\",fps=24)\n",
    "    final.close()\n",
    "    \n",
    "    \n",
    "    "
   ]
  },
  {
   "cell_type": "code",
   "execution_count": null,
   "metadata": {},
   "outputs": [],
   "source": []
  }
 ],
 "metadata": {
  "kernelspec": {
   "display_name": "Python 3",
   "language": "python",
   "name": "python3"
  },
  "language_info": {
   "codemirror_mode": {
    "name": "ipython",
    "version": 3
   },
   "file_extension": ".py",
   "mimetype": "text/x-python",
   "name": "python",
   "nbconvert_exporter": "python",
   "pygments_lexer": "ipython3",
   "version": "3.6.4"
  }
 },
 "nbformat": 4,
 "nbformat_minor": 2
}
