{
 "cells": [
  {
   "cell_type": "code",
   "execution_count": null,
   "metadata": {},
   "outputs": [],
   "source": [
    "from moviepy.editor import *"
   ]
  },
  {
   "cell_type": "code",
   "execution_count": null,
   "metadata": {
    "scrolled": true
   },
   "outputs": [],
   "source": [
    "from PIL import Image\n",
    "import requests\n",
    "from io import BytesIO"
   ]
  },
  {
   "cell_type": "code",
   "execution_count": null,
   "metadata": {},
   "outputs": [],
   "source": [
    "response = requests.get(r'https://media.indiatimes.in/media/content/2018/Aug/kerala_1535546541_725x725.jpg')\n",
    "img = Image.open(BytesIO(response.content)).convert('RGB')"
   ]
  },
  {
   "cell_type": "code",
   "execution_count": null,
   "metadata": {},
   "outputs": [],
   "source": [
    "text = TextClip(\"Kerala Floods\",fontsize=200,color='white',bg_color='Black',method='caption').set_duration(1).set_pos(\"left\").set_opacity(0.6)"
   ]
  },
  {
   "cell_type": "code",
   "execution_count": null,
   "metadata": {},
   "outputs": [],
   "source": [
    "import cv2\n",
    "import numpy\n",
    "img =numpy.array(img)\n",
    "resized_image = cv2.resize(img, (1920,1080))"
   ]
  },
  {
   "cell_type": "code",
   "execution_count": null,
   "metadata": {},
   "outputs": [],
   "source": [
    "picture = ImageClip(resized_image,duration=1)"
   ]
  },
  {
   "cell_type": "code",
   "execution_count": null,
   "metadata": {},
   "outputs": [],
   "source": [
    "text.fps=24\n",
    "picture.fps=24\n",
    "final_clip = CompositeVideoClip([picture,text])\n",
    "final_clip.fps =24"
   ]
  },
  {
   "cell_type": "code",
   "execution_count": null,
   "metadata": {},
   "outputs": [],
   "source": [
    "final_clip.write_videofile('Title.mp4',threads=4)"
   ]
  },
  {
   "cell_type": "code",
   "execution_count": null,
   "metadata": {},
   "outputs": [],
   "source": [
    "TextClip.list('color')"
   ]
  },
  {
   "cell_type": "code",
   "execution_count": null,
   "metadata": {},
   "outputs": [],
   "source": [
    "import spacy,en_core_web_sm\n",
    "import textacy\n",
    "from textblob import TextBlob\n",
    "sentence = 'The Democratic primaries on Thursday, Sept. 13, provide some ground for hope. The damage being done by the Trump administration has reawakened New Yorkers to the importance of political participation. Recognizing this new spirit, energetic Senate candidates are promising real reform. Candidates for attorney general — in particular Zephyr Teachout, a national expert on corruption — are campaigning to clean up Albany and take on the Trump administration, and they’re well positioned to do just that.'\n",
    "pattern = r'<VERB>*'\n",
    "doc = textacy.Doc(sentence, lang='en')\n",
    "lists = textacy.extract.pos_regex_matches(doc, pattern)\n",
    "blob = TextBlob(sentence)\n",
    "listo = [li.text for li in lists]\n",
    "search=' '.join(blob.noun_phrases)+' '\n",
    "search1=search +' '.join(listo)\n",
    "print (search1)"
   ]
  },
  {
   "cell_type": "code",
   "execution_count": null,
   "metadata": {},
   "outputs": [],
   "source": [
    "from google_images_download import google_images_download\n",
    "response = google_images_download.googleimagesdownload()\n",
    "arguments={\"keywords\":search1[:50],\"limit\":1} \n",
    "absolute_image_paths = response.download(arguments)\n",
    "print(absolute_image_paths[search1[:50]])"
   ]
  },
  {
   "cell_type": "code",
   "execution_count": null,
   "metadata": {},
   "outputs": [],
   "source": [
    "from sumy.parsers.html import HtmlParser\n",
    "from sumy.parsers.plaintext import PlaintextParser\n",
    "from sumy.nlp.tokenizers import Tokenizer\n",
    "from sumy.summarizers.lsa import LsaSummarizer as Summarizer\n",
    "from sumy.nlp.stemmers import Stemmer\n",
    "from sumy.utils import get_stop_words\n",
    "\n",
    "\n",
    "LANGUAGE = \"english\"\n",
    "SENTENCES_COUNT = 10\n",
    "\n",
    "\n",
    "url = \"https://timesofindia.indiatimes.com/india/is-this-a-joke-sc-blasts-lower-court-for-delivering-order-through-whatsapp/articleshow/65739971.cms\"\n",
    "parser = HtmlParser.from_url(url, Tokenizer(LANGUAGE))\n",
    "# or for plain text files\n",
    "# parser = PlaintextParser.from_file(\"document.txt\", Tokenizer(LANGUAGE))\n",
    "stemmer = Stemmer(LANGUAGE)\n",
    "summarizer = Summarizer(stemmer)\n",
    "summarizer.stop_words = get_stop_words(LANGUAGE)\n",
    "\n",
    "for sentence in summarizer(parser.document, SENTENCES_COUNT):\n",
    "    print(sentence)"
   ]
  },
  {
   "cell_type": "code",
   "execution_count": null,
   "metadata": {},
   "outputs": [],
   "source": [
    "txt = 'Have you ever heard of a trial in a criminal case being conducted through instant messaging app WhatsApp?'\n",
    "clip =TextClip(txt, font='Georgia-Regular',fontsize=84, color='white').set_duration(1)\n",
    "txt_split= txt.split(' ')\n",
    "count =len(txt_split)//(clip.size[0]//1600)\n",
    "count=6\n",
    "print(count)\n",
    "txt_sp2=['']\n",
    "for i in range(0,len(txt_split)):\n",
    "    if i %count !=0 or i==0:\n",
    "        txt_sp2.append(txt_split[i])\n",
    "    else:\n",
    "        txt_sp2.append(txt_split[i])\n",
    "        txt_sp2.append('\\n')\n",
    "        \n",
    "txt=' '.join(txt_sp2)\n",
    "clip =TextClip(txt, font='Georgia-Regular',fontsize=84, color='white',method='caption',align='west',size=(1920,clip.size[1]*(clip.size[0]//1600)*1.5)).set_duration(1)\n",
    "final = CompositeVideoClip([picture, clip])\n",
    "final.to_videofile(\"final.mp4\", fps=picture.fps)"
   ]
  },
  {
   "cell_type": "code",
   "execution_count": null,
   "metadata": {},
   "outputs": [],
   "source": [
    "print(clip.size)"
   ]
  },
  {
   "cell_type": "code",
   "execution_count": null,
   "metadata": {},
   "outputs": [],
   "source": [
    "txt='1234567890123456789012345678901234567890123456789012345678901234567890123456789012345678901234567890'\n",
    "txt=''\n",
    "for i in range(5):\n",
    "    txt+='_'\n",
    "txt+='T'\n",
    "txt='When President Donald Trump took the stage on Thursday at the Rimrock Auto Arena in Billings, Montana, it had all the trappings of his signature rallies.'\n",
    "clip1 =TextClip(txt, font='Georgia-Regular',fontsize=74, color='white').set_duration(1)\n",
    "width = (clip1.size[0]/1720)\n",
    "clip =TextClip(txt, font='Georgia-Regular',fontsize=74, color='white',method='caption',stroke_color='Blue',stroke_width=100,align='west',size=(1720,clip1.size[1]*width*1.5)).set_duration(1).set_pos('bottom').set_opacity(.6)\n",
    "text =TextClip(txt, font='Georgia-Regular',fontsize=74, color='white',method='caption',align='west',size=(1720,clip1.size[1]*width*1.5)).set_duration(1).set_pos('bottom')\n",
    "final = CompositeVideoClip([picture, clip,text])\n",
    "final.to_videofile(\"final.mp4\", fps=picture.fps)"
   ]
  },
  {
   "cell_type": "code",
   "execution_count": 1,
   "metadata": {},
   "outputs": [
    {
     "name": "stdout",
     "output_type": "stream",
     "text": [
      "\n",
      "Item no.: 1 --> Item name = When President Donald Trump took the stage on Thursday at the Rimrock Auto Arena in Billings Montana it had all the trappings of his signature rallies.\n",
      "Evaluating...\n",
      "Starting Download...\n",
      "Completed Image ====> 1. 911cafqs_plaidshirtguy-650_625x300_09_september_18.jpg\n",
      "\n",
      "Errors: 0\n",
      "\n",
      "[MoviePy] >>>> Building video final.mp4\n",
      "[MoviePy] Writing video final.mp4\n"
     ]
    },
    {
     "name": "stderr",
     "output_type": "stream",
     "text": [
      "100%|████████████████████████████████████████████████████████████████████████████████| 255/255 [02:13<00:00,  1.91it/s]\n"
     ]
    },
    {
     "name": "stdout",
     "output_type": "stream",
     "text": [
      "[MoviePy] Done.\n",
      "[MoviePy] >>>> Video ready: final.mp4 \n",
      "\n"
     ]
    }
   ],
   "source": [
    "from gtts import gTTS\n",
    "from PIL import Image\n",
    "import requests\n",
    "from io import BytesIO\n",
    "from moviepy.editor import *\n",
    "from google_images_download import google_images_download\n",
    "import cv2\n",
    "import numpy\n",
    "\n",
    "def make_mid(txt):\n",
    "    speech = gTTS(txt,lang='en')\n",
    "    speech.save('temp.mp3')\n",
    "    response = google_images_download.googleimagesdownload()\n",
    "    arguments={\"keywords\":txt.replace(',', ''),\"limit\":1} \n",
    "    absolute_image_paths = response.download(arguments)\n",
    "    image=cv2.imread(absolute_image_paths[txt.replace(',', '')][0])\n",
    "    image = cv2.cvtColor(image,cv2.COLOR_BGR2RGB)\n",
    "    audio=AudioFileClip(\"temp.mp3\")\n",
    "    length=audio.duration\n",
    "    resized_image = cv2.resize(image, (1920,1080))\n",
    "    picture = ImageClip(resized_image,duration=length)\n",
    "    clip1 =TextClip(txt, font='Georgia-Regular',fontsize=74, color='white').set_duration(1)\n",
    "    width = (clip1.size[0]/1720)\n",
    "    clip =TextClip(txt, font='Georgia-Regular',fontsize=74, color='white',method='caption',stroke_color='Blue',stroke_width=100,align='west',size=(1720,clip1.size[1]*width*1.5)).set_duration(length).set_pos('bottom').set_opacity(.6)\n",
    "    text =TextClip(txt, font='Georgia-Regular',fontsize=74, color='white',method='caption',align='west',size=(1720,clip1.size[1]*width*1.5)).set_duration(length).set_pos('bottom')\n",
    "    final = CompositeVideoClip([picture, clip,text])\n",
    "    final.set_audio(audio)\n",
    "    return final\n",
    "txt='When President Donald Trump took the stage on Thursday at the Rimrock Auto Arena in Billings, Montana, it had all the trappings of his signature rallies.'\n",
    "final = make_mid(txt)\n",
    "final.write_videofile(\"final.mp4\",fps=24)\n",
    "    \n",
    "    \n",
    "    \n",
    "    \n"
   ]
  },
  {
   "cell_type": "code",
   "execution_count": 2,
   "metadata": {},
   "outputs": [],
   "source": [
    "final.close()"
   ]
  },
  {
   "cell_type": "code",
   "execution_count": null,
   "metadata": {},
   "outputs": [],
   "source": []
  }
 ],
 "metadata": {
  "kernelspec": {
   "display_name": "Python 3",
   "language": "python",
   "name": "python3"
  },
  "language_info": {
   "codemirror_mode": {
    "name": "ipython",
    "version": 3
   },
   "file_extension": ".py",
   "mimetype": "text/x-python",
   "name": "python",
   "nbconvert_exporter": "python",
   "pygments_lexer": "ipython3",
   "version": "3.6.4"
  }
 },
 "nbformat": 4,
 "nbformat_minor": 2
}
